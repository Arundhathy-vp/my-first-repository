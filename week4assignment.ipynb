{
  "nbformat": 4,
  "nbformat_minor": 0,
  "metadata": {
    "colab": {
      "provenance": []
    },
    "kernelspec": {
      "name": "python3",
      "display_name": "Python 3"
    },
    "language_info": {
      "name": "python"
    }
  },
  "cells": [
    {
      "cell_type": "markdown",
      "source": [
        "DSA Add-on Course Week 4 Practice Problems"
      ],
      "metadata": {
        "id": "rJl9-hyYo81s"
      }
    },
    {
      "cell_type": "markdown",
      "source": [
        "1. Create a NumPy array of integers from 1 to 10"
      ],
      "metadata": {
        "id": "bI8yWm9wpFLD"
      }
    },
    {
      "cell_type": "code",
      "source": [
        "import numpy as np"
      ],
      "metadata": {
        "id": "RYGbDShNpJZC"
      },
      "execution_count": 2,
      "outputs": []
    },
    {
      "cell_type": "code",
      "source": [
        "arr1=np.arange(1,11)"
      ],
      "metadata": {
        "id": "evrRy9BfprjD"
      },
      "execution_count": null,
      "outputs": []
    },
    {
      "cell_type": "code",
      "source": [
        "arr1"
      ],
      "metadata": {
        "colab": {
          "base_uri": "https://localhost:8080/"
        },
        "id": "3P0qqJm1p0-D",
        "outputId": "32199776-818a-43a9-ae2f-1520eff429ef"
      },
      "execution_count": null,
      "outputs": [
        {
          "output_type": "execute_result",
          "data": {
            "text/plain": [
              "array([ 1,  2,  3,  4,  5,  6,  7,  8,  9, 10])"
            ]
          },
          "metadata": {},
          "execution_count": 3
        }
      ]
    },
    {
      "cell_type": "markdown",
      "source": [
        "2. Create a 2x3 NumPy array filled with zeros.\n"
      ],
      "metadata": {
        "id": "yw7nNFUqp6oK"
      }
    },
    {
      "cell_type": "code",
      "source": [
        "np.zeros((2,3))"
      ],
      "metadata": {
        "colab": {
          "base_uri": "https://localhost:8080/"
        },
        "id": "NSkx1YNup1-l",
        "outputId": "4ae00aab-bd09-4c18-9acc-3f89aa8915d1"
      },
      "execution_count": null,
      "outputs": [
        {
          "output_type": "execute_result",
          "data": {
            "text/plain": [
              "array([[0., 0., 0.],\n",
              "       [0., 0., 0.]])"
            ]
          },
          "metadata": {},
          "execution_count": 4
        }
      ]
    },
    {
      "cell_type": "markdown",
      "source": [
        "3. Create a NumPy array of even numbers from 2 to 20."
      ],
      "metadata": {
        "id": "hxeIZ2MYqPoy"
      }
    },
    {
      "cell_type": "code",
      "source": [
        "arr2=np.arange(2,21,2)"
      ],
      "metadata": {
        "id": "EF5cFetkqLxB"
      },
      "execution_count": null,
      "outputs": []
    },
    {
      "cell_type": "code",
      "source": [
        "arr2"
      ],
      "metadata": {
        "colab": {
          "base_uri": "https://localhost:8080/"
        },
        "id": "UxHd5JNrqbdR",
        "outputId": "dd72c845-b469-436a-be4b-6feaf405df8d"
      },
      "execution_count": null,
      "outputs": [
        {
          "output_type": "execute_result",
          "data": {
            "text/plain": [
              "array([ 2,  4,  6,  8, 10, 12, 14, 16, 18, 20])"
            ]
          },
          "metadata": {},
          "execution_count": 6
        }
      ]
    },
    {
      "cell_type": "markdown",
      "source": [
        "4. Given two NumPy arrays, arr1 = np.array([1, 2, 3]) and arr2= np.array([4,\n",
        "5, 6]), perform element-wise addition, subtraction, multiplication, and\n",
        "division between the two arrays."
      ],
      "metadata": {
        "id": "Kg9O6uonqjpZ"
      }
    },
    {
      "cell_type": "code",
      "source": [
        "arr3 = np.array([1, 2, 3])"
      ],
      "metadata": {
        "id": "YmksV04UqcXR"
      },
      "execution_count": null,
      "outputs": []
    },
    {
      "cell_type": "code",
      "source": [
        "arr4 = np.array([4, 5, 6])"
      ],
      "metadata": {
        "id": "4IqvWykeqtZA"
      },
      "execution_count": null,
      "outputs": []
    },
    {
      "cell_type": "code",
      "source": [
        "#addition\n",
        "arr=arr3+arr4\n",
        "arr"
      ],
      "metadata": {
        "colab": {
          "base_uri": "https://localhost:8080/"
        },
        "id": "OO4aoR75qzFh",
        "outputId": "2095942f-3b27-4fbc-c0b8-bd4ada5f445c"
      },
      "execution_count": null,
      "outputs": [
        {
          "output_type": "execute_result",
          "data": {
            "text/plain": [
              "array([5, 7, 9])"
            ]
          },
          "metadata": {},
          "execution_count": 9
        }
      ]
    },
    {
      "cell_type": "code",
      "source": [
        "#substraction\n",
        "arr=arr3-arr4\n",
        "arr"
      ],
      "metadata": {
        "colab": {
          "base_uri": "https://localhost:8080/"
        },
        "id": "LyaWoBFKrP_1",
        "outputId": "67c675d1-574f-4009-add9-b4af37a1d345"
      },
      "execution_count": null,
      "outputs": [
        {
          "output_type": "execute_result",
          "data": {
            "text/plain": [
              "array([-3, -3, -3])"
            ]
          },
          "metadata": {},
          "execution_count": 10
        }
      ]
    },
    {
      "cell_type": "code",
      "source": [
        "#multiplication\n",
        "arr=arr3*arr4\n",
        "arr"
      ],
      "metadata": {
        "colab": {
          "base_uri": "https://localhost:8080/"
        },
        "id": "YKqeBeLDrWth",
        "outputId": "7ba05b3c-77e9-44ac-b21e-086ea79baaa2"
      },
      "execution_count": null,
      "outputs": [
        {
          "output_type": "execute_result",
          "data": {
            "text/plain": [
              "array([ 4, 10, 18])"
            ]
          },
          "metadata": {},
          "execution_count": 11
        }
      ]
    },
    {
      "cell_type": "code",
      "source": [
        "#division\n",
        "arr=arr3/arr4\n",
        "arr"
      ],
      "metadata": {
        "colab": {
          "base_uri": "https://localhost:8080/"
        },
        "id": "NMUb8Ko8rcjR",
        "outputId": "16280b20-fc8b-4357-e45e-6f0ddf4937ad"
      },
      "execution_count": null,
      "outputs": [
        {
          "output_type": "execute_result",
          "data": {
            "text/plain": [
              "array([0.25, 0.4 , 0.5 ])"
            ]
          },
          "metadata": {},
          "execution_count": 12
        }
      ]
    },
    {
      "cell_type": "markdown",
      "source": [
        "5. Compute the mean, median, and standard deviation of a NumPy array\n",
        "containing 100 random numbers."
      ],
      "metadata": {
        "id": "uhhl4CjKrrnT"
      }
    },
    {
      "cell_type": "code",
      "source": [
        "arr5=np.random.rand(100)\n",
        "arr5"
      ],
      "metadata": {
        "colab": {
          "base_uri": "https://localhost:8080/"
        },
        "id": "SEpcs0kArmFh",
        "outputId": "6c550ed3-3706-4968-d353-a6a2f9b55631"
      },
      "execution_count": null,
      "outputs": [
        {
          "output_type": "execute_result",
          "data": {
            "text/plain": [
              "array([0.83310979, 0.89653481, 0.77163506, 0.14216938, 0.91187313,\n",
              "       0.71871255, 0.98863668, 0.76136198, 0.6986404 , 0.89793772,\n",
              "       0.32953654, 0.35078549, 0.8251056 , 0.88037379, 0.37337619,\n",
              "       0.22286132, 0.95231106, 0.44451314, 0.0702132 , 0.50385201,\n",
              "       0.90015143, 0.09972977, 0.6147039 , 0.7778531 , 0.13458852,\n",
              "       0.88981828, 0.59653344, 0.54596455, 0.48182102, 0.63962625,\n",
              "       0.16396147, 0.59688227, 0.82757731, 0.88974788, 0.94005681,\n",
              "       0.43811951, 0.49645853, 0.48390397, 0.62581524, 0.06868792,\n",
              "       0.52780533, 0.41488744, 0.43614748, 0.72778886, 0.73841315,\n",
              "       0.54752567, 0.82979936, 0.63265263, 0.44379308, 0.85163915,\n",
              "       0.91790325, 0.20486062, 0.70632571, 0.74580543, 0.2408028 ,\n",
              "       0.42401933, 0.01741721, 0.89988888, 0.13659252, 0.17245981,\n",
              "       0.9089086 , 0.65809966, 0.88552919, 0.09498243, 0.70016041,\n",
              "       0.02505848, 0.2411079 , 0.31677781, 0.11151318, 0.41252554,\n",
              "       0.52394199, 0.76384461, 0.51474102, 0.26893671, 0.09693409,\n",
              "       0.38711567, 0.27546335, 0.39639302, 0.2203832 , 0.81148278,\n",
              "       0.64858728, 0.79231843, 0.09846514, 0.73308698, 0.37575874,\n",
              "       0.1602015 , 0.36117295, 0.1672886 , 0.42696493, 0.58898064,\n",
              "       0.91257011, 0.24751934, 0.4790116 , 0.41718947, 0.33287878,\n",
              "       0.77021943, 0.27513747, 0.21048034, 0.47071974, 0.11225005])"
            ]
          },
          "metadata": {},
          "execution_count": 21
        }
      ]
    },
    {
      "cell_type": "code",
      "source": [
        "#mean\n",
        "arr5.mean()"
      ],
      "metadata": {
        "colab": {
          "base_uri": "https://localhost:8080/"
        },
        "id": "uNhJspg_r_WB",
        "outputId": "3432c972-a6ea-4b67-8b87-a26e542198c5"
      },
      "execution_count": null,
      "outputs": [
        {
          "output_type": "execute_result",
          "data": {
            "text/plain": [
              "0.4980348136551658"
            ]
          },
          "metadata": {},
          "execution_count": 18
        }
      ]
    },
    {
      "cell_type": "code",
      "source": [],
      "metadata": {
        "id": "kXmnlo7PsO1R"
      },
      "execution_count": null,
      "outputs": []
    },
    {
      "cell_type": "markdown",
      "source": [
        "6. Reshape a 1D NumPy array of 12 random elements into a 2D array with a\n",
        "shape of (3, 4)."
      ],
      "metadata": {
        "id": "zQ7uZS9RtOqq"
      }
    },
    {
      "cell_type": "code",
      "source": [
        "arr6=np.random.randint(0,20,12)\n",
        "arr6\n"
      ],
      "metadata": {
        "colab": {
          "base_uri": "https://localhost:8080/"
        },
        "id": "7faY3Fprs-Ek",
        "outputId": "6104489e-bf9f-4fd5-c596-88fa1187572b"
      },
      "execution_count": null,
      "outputs": [
        {
          "output_type": "execute_result",
          "data": {
            "text/plain": [
              "array([18, 15,  7, 14,  2,  4,  9, 13, 15,  7, 14, 19])"
            ]
          },
          "metadata": {},
          "execution_count": 30
        }
      ]
    },
    {
      "cell_type": "code",
      "source": [
        "arr6=np.random.randint(0,20,12).reshape(3,4)\n",
        "arr6"
      ],
      "metadata": {
        "colab": {
          "base_uri": "https://localhost:8080/"
        },
        "id": "lNwBTHGUthZB",
        "outputId": "1a92bb4b-69c3-4a1a-e7fa-1922578fbdfb"
      },
      "execution_count": null,
      "outputs": [
        {
          "output_type": "execute_result",
          "data": {
            "text/plain": [
              "array([[ 6,  5, 19,  5],\n",
              "       [19,  1, 18, 11],\n",
              "       [ 0, 16,  0, 10]])"
            ]
          },
          "metadata": {},
          "execution_count": 33
        }
      ]
    },
    {
      "cell_type": "markdown",
      "source": [
        "7. Given a NumPy array arr = np.array([1, 2, 3, 4, 5]), square each element in\n",
        "the array using NumPy functions.\n"
      ],
      "metadata": {
        "id": "IAAJBVm-vP5y"
      }
    },
    {
      "cell_type": "code",
      "source": [
        "arr7=np.array([1,2,3,4,5])\n",
        "np.square(arr7)"
      ],
      "metadata": {
        "colab": {
          "base_uri": "https://localhost:8080/"
        },
        "id": "9YA9r9GktyIQ",
        "outputId": "cdc45547-6d65-42ac-800a-deaf5fdfafb8"
      },
      "execution_count": null,
      "outputs": [
        {
          "output_type": "execute_result",
          "data": {
            "text/plain": [
              "array([ 1,  4,  9, 16, 25])"
            ]
          },
          "metadata": {},
          "execution_count": 34
        }
      ]
    },
    {
      "cell_type": "markdown",
      "source": [
        "8. Create a 5x5 identity matrix using NumPy"
      ],
      "metadata": {
        "id": "KsrT6q2Hv9Sx"
      }
    },
    {
      "cell_type": "code",
      "source": [
        "np.eye(5,5)"
      ],
      "metadata": {
        "colab": {
          "base_uri": "https://localhost:8080/"
        },
        "id": "yIklk8_Dvy2h",
        "outputId": "d5b92d4e-6520-4f09-b65c-67661af7c792"
      },
      "execution_count": null,
      "outputs": [
        {
          "output_type": "execute_result",
          "data": {
            "text/plain": [
              "array([[1., 0., 0., 0., 0.],\n",
              "       [0., 1., 0., 0., 0.],\n",
              "       [0., 0., 1., 0., 0.],\n",
              "       [0., 0., 0., 1., 0.],\n",
              "       [0., 0., 0., 0., 1.]])"
            ]
          },
          "metadata": {},
          "execution_count": 35
        }
      ]
    },
    {
      "cell_type": "markdown",
      "source": [
        "9. Calculate the dot product of two NumPy arrays, a = np.array([1, 2, 3]) and\n",
        "b = np.array([4, 5, 6])"
      ],
      "metadata": {
        "id": "jN5lPp2ZwS0J"
      }
    },
    {
      "cell_type": "code",
      "source": [
        " a = np.array([1, 2, 3])"
      ],
      "metadata": {
        "id": "BoTOSPKewMwB"
      },
      "execution_count": null,
      "outputs": []
    },
    {
      "cell_type": "code",
      "source": [
        "b = np.array([4, 5, 6])"
      ],
      "metadata": {
        "id": "qvOHj0-mwZdB"
      },
      "execution_count": null,
      "outputs": []
    },
    {
      "cell_type": "code",
      "source": [
        "a.dot(b)"
      ],
      "metadata": {
        "colab": {
          "base_uri": "https://localhost:8080/"
        },
        "id": "FeC7Jya1wgnx",
        "outputId": "075c7843-fa65-4620-cbea-cd60dd70c8d9"
      },
      "execution_count": null,
      "outputs": [
        {
          "output_type": "execute_result",
          "data": {
            "text/plain": [
              "32"
            ]
          },
          "metadata": {},
          "execution_count": 39
        }
      ]
    },
    {
      "cell_type": "markdown",
      "source": [
        "10.Find the index of the maximum value and the index of the minimum value\n",
        "in a NumPy array."
      ],
      "metadata": {
        "id": "BB3fNY5kwqVp"
      }
    },
    {
      "cell_type": "code",
      "source": [
        "arr8=np.arange(1,50,2)\n",
        "arr8"
      ],
      "metadata": {
        "colab": {
          "base_uri": "https://localhost:8080/"
        },
        "id": "-U0jgnlAwoFR",
        "outputId": "c8ca01ca-78b4-4807-b512-afcf0556fbfa"
      },
      "execution_count": null,
      "outputs": [
        {
          "output_type": "execute_result",
          "data": {
            "text/plain": [
              "array([ 1,  3,  5,  7,  9, 11, 13, 15, 17, 19, 21, 23, 25, 27, 29, 31, 33,\n",
              "       35, 37, 39, 41, 43, 45, 47, 49])"
            ]
          },
          "metadata": {},
          "execution_count": 41
        }
      ]
    },
    {
      "cell_type": "code",
      "source": [
        "# index maximum value\n",
        "arr8.argmax()"
      ],
      "metadata": {
        "colab": {
          "base_uri": "https://localhost:8080/"
        },
        "id": "FZMYV4Z6xMWv",
        "outputId": "9d7554ea-9118-4b11-dd6d-78d38af4b92b"
      },
      "execution_count": null,
      "outputs": [
        {
          "output_type": "execute_result",
          "data": {
            "text/plain": [
              "24"
            ]
          },
          "metadata": {},
          "execution_count": 46
        }
      ]
    },
    {
      "cell_type": "code",
      "source": [
        "#index minimum value\n",
        "arr8.argmin()"
      ],
      "metadata": {
        "colab": {
          "base_uri": "https://localhost:8080/"
        },
        "id": "F9CWXGDWxgsd",
        "outputId": "b624edc0-c35c-4198-8285-1c8c60abedb6"
      },
      "execution_count": null,
      "outputs": [
        {
          "output_type": "execute_result",
          "data": {
            "text/plain": [
              "0"
            ]
          },
          "metadata": {},
          "execution_count": 47
        }
      ]
    },
    {
      "cell_type": "markdown",
      "source": [
        "11.Concatenate two random NumPy arrays horizontally and vertically"
      ],
      "metadata": {
        "id": "-D9GGlIqjQqE"
      }
    },
    {
      "cell_type": "code",
      "source": [
        "a=np.zeros((4,4))\n",
        "b=np.ones((4,4))\n",
        "c=np.concatenate((a,b))\n",
        "d=np.concatenate((a,b),axis=1)\n",
        "print('vertical concatenation-\\n',c)\n",
        "print('horizontal concatenation-\\n',d)"
      ],
      "metadata": {
        "id": "Cd4bD6TWxl2t",
        "colab": {
          "base_uri": "https://localhost:8080/"
        },
        "outputId": "fb0df927-b6b5-4c3f-ff71-47338f431e71"
      },
      "execution_count": 3,
      "outputs": [
        {
          "output_type": "stream",
          "name": "stdout",
          "text": [
            "vertical concatenation-\n",
            " [[0. 0. 0. 0.]\n",
            " [0. 0. 0. 0.]\n",
            " [0. 0. 0. 0.]\n",
            " [0. 0. 0. 0.]\n",
            " [1. 1. 1. 1.]\n",
            " [1. 1. 1. 1.]\n",
            " [1. 1. 1. 1.]\n",
            " [1. 1. 1. 1.]]\n",
            "horizontal concatenation-\n",
            " [[0. 0. 0. 0. 1. 1. 1. 1.]\n",
            " [0. 0. 0. 0. 1. 1. 1. 1.]\n",
            " [0. 0. 0. 0. 1. 1. 1. 1.]\n",
            " [0. 0. 0. 0. 1. 1. 1. 1.]]\n"
          ]
        }
      ]
    },
    {
      "cell_type": "markdown",
      "source": [
        "12.Given a 2D NumPy array, calculate the sum of each row and each column\n",
        "separately."
      ],
      "metadata": {
        "id": "ENniKZnzIPyJ"
      }
    },
    {
      "cell_type": "code",
      "source": [
        "arr=np.arange(1,17).reshape(4,4)\n",
        "print(arr)\n",
        "print('sum of each column is', np.sum(arr,axis=0))\n",
        "print('sum of each rowis ',np.sum(arr,axis=1))"
      ],
      "metadata": {
        "colab": {
          "base_uri": "https://localhost:8080/"
        },
        "id": "jaSZd34UIR2Q",
        "outputId": "4339696f-7707-43bb-e5f9-577fe1dbe70c"
      },
      "execution_count": 4,
      "outputs": [
        {
          "output_type": "stream",
          "name": "stdout",
          "text": [
            "[[ 1  2  3  4]\n",
            " [ 5  6  7  8]\n",
            " [ 9 10 11 12]\n",
            " [13 14 15 16]]\n",
            "sum of each column is [28 32 36 40]\n",
            "sum of each rowis  [10 26 42 58]\n"
          ]
        }
      ]
    },
    {
      "cell_type": "markdown",
      "source": [
        "13.Find the common elements between two NumPy arrays."
      ],
      "metadata": {
        "id": "1O7snaHsI4nA"
      }
    },
    {
      "cell_type": "code",
      "source": [
        "a=np.array([[4,9],[5,8],[1,7]])\n",
        "b=np.array([[3,9],[5,2],[6,7]])\n",
        "c=np.intersect1d(a,b)\n",
        "print(\"the common elements between a and b are \",c)"
      ],
      "metadata": {
        "colab": {
          "base_uri": "https://localhost:8080/"
        },
        "id": "bcliO6dHI1wI",
        "outputId": "ab6bd871-cb1d-44b0-ad38-0b60f3fd1cac"
      },
      "execution_count": 5,
      "outputs": [
        {
          "output_type": "stream",
          "name": "stdout",
          "text": [
            "the common elements between a and b are  [5 7 9]\n"
          ]
        }
      ]
    },
    {
      "cell_type": "markdown",
      "source": [
        "14.Replace all negative values in a NumPy array with zeros."
      ],
      "metadata": {
        "id": "E3juUSUYJue8"
      }
    },
    {
      "cell_type": "code",
      "source": [
        "x=np.array([1,2,3,-4,-5,-6])\n",
        "x[x<0]=0\n",
        "x"
      ],
      "metadata": {
        "colab": {
          "base_uri": "https://localhost:8080/"
        },
        "id": "lGUO1plvJn3l",
        "outputId": "41865802-444d-49fb-8838-0ae1df5728c1"
      },
      "execution_count": 6,
      "outputs": [
        {
          "output_type": "execute_result",
          "data": {
            "text/plain": [
              "array([1, 2, 3, 0, 0, 0])"
            ]
          },
          "metadata": {},
          "execution_count": 6
        }
      ]
    },
    {
      "cell_type": "markdown",
      "source": [
        "15.Create a NumPy array with random integers between 1 and 100 and then\n",
        "sort it in ascending order."
      ],
      "metadata": {
        "id": "_pMx2UWkKDud"
      }
    },
    {
      "cell_type": "code",
      "source": [
        "arr1=np.random.randint(1,101,100)\n",
        "arr1.sort()\n",
        "arr1"
      ],
      "metadata": {
        "colab": {
          "base_uri": "https://localhost:8080/"
        },
        "id": "L2gjLkmuKCSO",
        "outputId": "90913195-7381-4046-b886-7f7250e1e1ec"
      },
      "execution_count": 7,
      "outputs": [
        {
          "output_type": "execute_result",
          "data": {
            "text/plain": [
              "array([  4,   5,   6,   6,   7,   8,   8,   9,  10,  12,  13,  14,  14,\n",
              "        15,  16,  16,  17,  18,  18,  19,  20,  21,  21,  22,  23,  23,\n",
              "        24,  25,  25,  27,  27,  27,  28,  30,  31,  41,  44,  45,  46,\n",
              "        47,  48,  48,  49,  49,  50,  50,  51,  52,  52,  52,  53,  56,\n",
              "        57,  59,  60,  60,  61,  62,  63,  64,  66,  66,  68,  70,  70,\n",
              "        71,  71,  73,  74,  75,  75,  75,  76,  76,  76,  76,  77,  78,\n",
              "        79,  79,  81,  82,  82,  85,  85,  85,  86,  87,  89,  89,  89,\n",
              "        89,  90,  91,  92,  93,  93,  97, 100, 100])"
            ]
          },
          "metadata": {},
          "execution_count": 7
        }
      ]
    },
    {
      "cell_type": "markdown",
      "source": [
        "16.Calculate the element-wise absolute difference between two NumPy\n",
        "arrays."
      ],
      "metadata": {
        "id": "LWbbc9ccK42M"
      }
    },
    {
      "cell_type": "code",
      "source": [
        "a=np.array([1,2,3,4,5])\n",
        "b=np.array([6,8,10,12,14])\n",
        "c=np.absolute(a-b)\n",
        "print(\"The element wise absolute differences between the two arrays is\",c)"
      ],
      "metadata": {
        "colab": {
          "base_uri": "https://localhost:8080/"
        },
        "id": "Z0muHK--KS5s",
        "outputId": "b8ea0200-63b8-4e0f-842a-742d71ccfc6a"
      },
      "execution_count": 8,
      "outputs": [
        {
          "output_type": "stream",
          "name": "stdout",
          "text": [
            "The element wise absolute differences between the two arrays is [5 6 7 8 9]\n"
          ]
        }
      ]
    },
    {
      "cell_type": "markdown",
      "source": [
        "17.Given a 2D NumPy array, extract the first row and the last column.\n"
      ],
      "metadata": {
        "id": "7jQeoni4Lcwg"
      }
    },
    {
      "cell_type": "code",
      "source": [
        "arr=np.array([[1,2,3],[4,5,6],[7,8,9]])\n",
        "firstrow=arr[0]\n",
        "lastcol=arr[:,[-1]]\n",
        "print(\"firstrow is \\n\",firstrow)\n",
        "print(\"last column is \\n\",lastcol)"
      ],
      "metadata": {
        "colab": {
          "base_uri": "https://localhost:8080/"
        },
        "id": "IQIDmcwKLblo",
        "outputId": "9abb4da4-9633-40f8-c833-64b2ae90e564"
      },
      "execution_count": 13,
      "outputs": [
        {
          "output_type": "stream",
          "name": "stdout",
          "text": [
            "firstrow is \n",
            " [1 2 3]\n",
            "last column is \n",
            " [[3]\n",
            " [6]\n",
            " [9]]\n"
          ]
        }
      ]
    },
    {
      "cell_type": "markdown",
      "source": [
        "18.Slice a 1D NumPy array to get every other element."
      ],
      "metadata": {
        "id": "kCkbos-1Mllf"
      }
    },
    {
      "cell_type": "code",
      "source": [
        "a=np.array([1,2,3,4,5])\n",
        "x=a[0:len(a)+1]\n",
        "print(x)"
      ],
      "metadata": {
        "colab": {
          "base_uri": "https://localhost:8080/"
        },
        "id": "JvVODEWpMCcu",
        "outputId": "21b9b5a0-50bf-42fe-e9e4-8bcaec44bf38"
      },
      "execution_count": 14,
      "outputs": [
        {
          "output_type": "stream",
          "name": "stdout",
          "text": [
            "[1 2 3 4 5]\n"
          ]
        }
      ]
    },
    {
      "cell_type": "markdown",
      "source": [
        "19.Given a 2D NumPy array, extract a subarray consisting of the central 2x2\n",
        "elements."
      ],
      "metadata": {
        "id": "hTrmxO7_M8Jg"
      }
    },
    {
      "cell_type": "code",
      "source": [
        "arr=np.array([[10,1,14,16,18,20],[22,24,26,28,30,32],[34,36,38,40,42,44],[46,48,50,52,54,56],[58,60,62,64,66,68],[70,72,74,76,78,80]])\n",
        "x=arr[2:4,[2,3]]\n",
        "print('original array is \\n',arr)\n",
        "print('central 2x2 elements include\\n',x)"
      ],
      "metadata": {
        "colab": {
          "base_uri": "https://localhost:8080/"
        },
        "id": "cUjISyTeM5jg",
        "outputId": "e6bcac84-ecdc-474d-bf15-8b819dec712f"
      },
      "execution_count": 15,
      "outputs": [
        {
          "output_type": "stream",
          "name": "stdout",
          "text": [
            "original array is \n",
            " [[10  1 14 16 18 20]\n",
            " [22 24 26 28 30 32]\n",
            " [34 36 38 40 42 44]\n",
            " [46 48 50 52 54 56]\n",
            " [58 60 62 64 66 68]\n",
            " [70 72 74 76 78 80]]\n",
            "central 2x2 elements include\n",
            " [[38 40]\n",
            " [50 52]]\n"
          ]
        }
      ]
    },
    {
      "cell_type": "markdown",
      "source": [
        "20.Reverse a 1D NumPy array using slicing."
      ],
      "metadata": {
        "id": "VuRF1uldOJ1P"
      }
    },
    {
      "cell_type": "code",
      "source": [
        "a=np.array([1,2,3,4,5])\n",
        "x=a[::-1]\n",
        "x"
      ],
      "metadata": {
        "colab": {
          "base_uri": "https://localhost:8080/"
        },
        "id": "t6J-SjBJOGWP",
        "outputId": "a47fc75b-574d-4f32-9c69-6a0af5f29132"
      },
      "execution_count": 16,
      "outputs": [
        {
          "output_type": "execute_result",
          "data": {
            "text/plain": [
              "array([5, 4, 3, 2, 1])"
            ]
          },
          "metadata": {},
          "execution_count": 16
        }
      ]
    },
    {
      "cell_type": "code",
      "source": [],
      "metadata": {
        "id": "HLbpnc1POZU2"
      },
      "execution_count": null,
      "outputs": []
    }
  ]
}