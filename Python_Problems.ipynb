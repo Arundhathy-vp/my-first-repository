{
  "nbformat": 4,
  "nbformat_minor": 0,
  "metadata": {
    "colab": {
      "provenance": []
    },
    "kernelspec": {
      "name": "python3",
      "display_name": "Python 3"
    },
    "language_info": {
      "name": "python"
    }
  },
  "cells": [
    {
      "cell_type": "markdown",
      "source": [
        "**PYTHON** **PRACTICE** **PROBLEMS**"
      ],
      "metadata": {
        "id": "TLjGXOeq8gEj"
      }
    },
    {
      "cell_type": "markdown",
      "source": [
        "1.# Area of Rectangle"
      ],
      "metadata": {
        "id": "FI7sWOmxAjFe"
      }
    },
    {
      "cell_type": "code",
      "source": [
        "length=int(input(\"Enter the Number\"))\n",
        "width=int(input(\"Enter the Number\"))\n",
        "a=length*width\n",
        "print(a)"
      ],
      "metadata": {
        "id": "6mxg-OIt8rDW",
        "colab": {
          "base_uri": "https://localhost:8080/"
        },
        "outputId": "61a78b9b-91d3-4dd8-b4ef-811b0177607a"
      },
      "execution_count": null,
      "outputs": [
        {
          "output_type": "stream",
          "name": "stdout",
          "text": [
            "Enter the Number5\n",
            "Enter the Number4\n",
            "20\n"
          ]
        }
      ]
    },
    {
      "cell_type": "markdown",
      "source": [
        "2.# sum,Difference,Product and quotient of two numbers"
      ],
      "metadata": {
        "id": "Wi3RwP038AgN"
      }
    },
    {
      "cell_type": "markdown",
      "source": [
        "Sum of Numbers"
      ],
      "metadata": {
        "id": "FgSp7MfUBz7M"
      }
    },
    {
      "cell_type": "code",
      "source": [
        "a=int(input(\"enter a number\"))\n",
        "b=int(input(\"enter a number\"))\n",
        "s=a+b\n",
        "print(s)"
      ],
      "metadata": {
        "colab": {
          "base_uri": "https://localhost:8080/"
        },
        "id": "G32Sp9V4BuIE",
        "outputId": "7143c06a-a2ae-4759-b19f-aa985419a12c"
      },
      "execution_count": null,
      "outputs": [
        {
          "output_type": "stream",
          "name": "stdout",
          "text": [
            "enter a number6\n",
            "enter a number4\n",
            "10\n"
          ]
        }
      ]
    },
    {
      "cell_type": "markdown",
      "source": [
        "Product of numbers"
      ],
      "metadata": {
        "id": "mQt2nVQsCe4q"
      }
    },
    {
      "cell_type": "code",
      "source": [
        "a=int(input(\"enter a number\"))\n",
        "b=int(input(\"enter a number\"))\n",
        "p=a*b\n",
        "print(p)"
      ],
      "metadata": {
        "colab": {
          "base_uri": "https://localhost:8080/"
        },
        "id": "ffj9Ru0eCEJL",
        "outputId": "06f2e896-6033-4ee1-fdc6-40318d2202b2"
      },
      "execution_count": null,
      "outputs": [
        {
          "output_type": "stream",
          "name": "stdout",
          "text": [
            "enter a number5\n",
            "enter a number2\n",
            "10\n"
          ]
        }
      ]
    },
    {
      "cell_type": "markdown",
      "source": [
        "Difference of numbers"
      ],
      "metadata": {
        "id": "olX4gitBCsPb"
      }
    },
    {
      "cell_type": "code",
      "source": [
        "a=int(input(\"enter a number\"))\n",
        "b=int(input(\"enter a number\"))\n",
        "d=a-b\n",
        "print(d)"
      ],
      "metadata": {
        "colab": {
          "base_uri": "https://localhost:8080/"
        },
        "id": "ZKDNlT98CpFM",
        "outputId": "8706403f-5417-414c-f374-6651af6f23ca"
      },
      "execution_count": null,
      "outputs": [
        {
          "output_type": "stream",
          "name": "stdout",
          "text": [
            "enter a number10\n",
            "enter a number3\n",
            "7\n"
          ]
        }
      ]
    },
    {
      "cell_type": "markdown",
      "source": [
        "Quotient of numbers"
      ],
      "metadata": {
        "id": "1Q5H1MnMC3SS"
      }
    },
    {
      "cell_type": "code",
      "source": [
        "a=int(input(\"enter a number\"))\n",
        "b=int(input(\"enter a number\"))\n",
        "q=a%b\n",
        "print(q)"
      ],
      "metadata": {
        "colab": {
          "base_uri": "https://localhost:8080/"
        },
        "id": "o8RErinuC0dI",
        "outputId": "8fc01863-295c-443b-f712-b790b670b7cd"
      },
      "execution_count": null,
      "outputs": [
        {
          "output_type": "stream",
          "name": "stdout",
          "text": [
            "enter a number15\n",
            "enter a number3\n",
            "0\n"
          ]
        }
      ]
    },
    {
      "cell_type": "markdown",
      "source": [
        "3.# convert temperature from fahreinheit to celsius and vice versa"
      ],
      "metadata": {
        "id": "FK5arQSrDb-E"
      }
    },
    {
      "cell_type": "code",
      "source": [
        "fer=float(input(\"enter the number\"))\n",
        "cel=(fer-32)*5/9\n",
        "print(cel)"
      ],
      "metadata": {
        "colab": {
          "base_uri": "https://localhost:8080/"
        },
        "id": "yGvFcLYRDAOl",
        "outputId": "a7559ea7-7d8a-4321-8a92-fbf7b395aa05"
      },
      "execution_count": null,
      "outputs": [
        {
          "output_type": "stream",
          "name": "stdout",
          "text": [
            "enter the number99\n",
            "37.22222222222222\n"
          ]
        }
      ]
    },
    {
      "cell_type": "code",
      "source": [
        "fer=float(input(\"enter the number\"))\n",
        "fer=(cel*9/5)+32\n",
        "print(fer)"
      ],
      "metadata": {
        "colab": {
          "base_uri": "https://localhost:8080/"
        },
        "id": "4iG-v8-8D_SB",
        "outputId": "840fcb6d-743e-4660-c999-ae8101d68a5c"
      },
      "execution_count": null,
      "outputs": [
        {
          "output_type": "stream",
          "name": "stdout",
          "text": [
            "enter the number37\n",
            "99.0\n"
          ]
        }
      ]
    },
    {
      "cell_type": "markdown",
      "source": [
        "4.# Chect a given number is positive,negative or zero"
      ],
      "metadata": {
        "id": "ZMhU4syTEYDI"
      }
    },
    {
      "cell_type": "code",
      "source": [
        "number=int(input(\"enter the number\"))\n",
        "if(number>0):\n",
        "  print(\"number is positive\")\n",
        "elif(number<0):\n",
        "  print(\"number is negative\")\n",
        "else:\n",
        "  print(\"number is zero\")"
      ],
      "metadata": {
        "colab": {
          "base_uri": "https://localhost:8080/"
        },
        "id": "WMT5FMrkESrs",
        "outputId": "b758deb7-35b2-41b7-cdce-681f7240e949"
      },
      "execution_count": null,
      "outputs": [
        {
          "output_type": "stream",
          "name": "stdout",
          "text": [
            "enter the number7\n",
            "number is positive\n"
          ]
        }
      ]
    },
    {
      "cell_type": "markdown",
      "source": [
        "5.# Determine whether a year is a leep year"
      ],
      "metadata": {
        "id": "ysK5j07hGGjX"
      }
    },
    {
      "cell_type": "code",
      "source": [
        "y=int(input(\"Enter the year\"))\n",
        "if(y/4==0):\n",
        "  print(\"it is a leep year\")\n",
        "elif(y/400==0):\n",
        "  print(\"it is a leep year\")\n",
        "else:\n",
        "  print(\"it is not a leep year\")"
      ],
      "metadata": {
        "colab": {
          "base_uri": "https://localhost:8080/"
        },
        "id": "Ov4s8zg6FHXu",
        "outputId": "d38f2a53-19b5-42d3-d1e0-5de23ac0cb99"
      },
      "execution_count": null,
      "outputs": [
        {
          "output_type": "stream",
          "name": "stdout",
          "text": [
            "Enter the year2023\n",
            "it is not a leep year\n"
          ]
        }
      ]
    },
    {
      "cell_type": "markdown",
      "source": [
        "6.# Grade according to mark"
      ],
      "metadata": {
        "id": "6Jtz_LEYGv_A"
      }
    },
    {
      "cell_type": "code",
      "source": [
        "mark=float(input(\"Enter the mark\"))\n",
        "if(mark>=90):\n",
        "  print(\"A Grade\")\n",
        "elif(mark>=80):\n",
        "  print(\"B Grade\")\n",
        "elif(mark>=70):\n",
        "  print(\"C Grade\")\n",
        "elif(mark>=60):\n",
        "  print(\"D Grade\")\n",
        "elif(mark>=0):\n",
        "  print(\"F Grade\")\n",
        "else:\n",
        "  print(\"Invalid\")"
      ],
      "metadata": {
        "colab": {
          "base_uri": "https://localhost:8080/"
        },
        "id": "68zHeBx-Gr83",
        "outputId": "af2e657d-0636-486b-b6e1-e0658c2ec2e7"
      },
      "execution_count": null,
      "outputs": [
        {
          "output_type": "stream",
          "name": "stdout",
          "text": [
            "Enter the mark65\n",
            "D Grade\n"
          ]
        }
      ]
    },
    {
      "cell_type": "markdown",
      "source": [
        "7.# Print numbers from 10-1"
      ],
      "metadata": {
        "id": "gEq0AfMVHsZ0"
      }
    },
    {
      "cell_type": "code",
      "source": [
        "for n in range(10,0,-1):\n",
        "  print(n)"
      ],
      "metadata": {
        "colab": {
          "base_uri": "https://localhost:8080/"
        },
        "id": "ZAsaG_etHfy8",
        "outputId": "657f3980-8987-4a88-9064-497ab877f6e5"
      },
      "execution_count": null,
      "outputs": [
        {
          "output_type": "stream",
          "name": "stdout",
          "text": [
            "10\n",
            "9\n",
            "8\n",
            "7\n",
            "6\n",
            "5\n",
            "4\n",
            "3\n",
            "2\n",
            "1\n"
          ]
        }
      ]
    },
    {
      "cell_type": "markdown",
      "source": [
        "8.# Print all even numbers from 0-20"
      ],
      "metadata": {
        "id": "4XWgH1yYIBUJ"
      }
    },
    {
      "cell_type": "code",
      "source": [
        "for n in range(2,22,2):\n",
        "  print(n)"
      ],
      "metadata": {
        "colab": {
          "base_uri": "https://localhost:8080/"
        },
        "id": "dkIOtg89H4jB",
        "outputId": "a94e8264-ab28-43a5-f675-326d76b484c7"
      },
      "execution_count": null,
      "outputs": [
        {
          "output_type": "stream",
          "name": "stdout",
          "text": [
            "2\n",
            "4\n",
            "6\n",
            "8\n",
            "10\n",
            "12\n",
            "14\n",
            "16\n",
            "18\n",
            "20\n"
          ]
        }
      ]
    },
    {
      "cell_type": "markdown",
      "source": [
        "9.# Print multiplication table of a given number"
      ],
      "metadata": {
        "id": "05bPfGJXITVd"
      }
    },
    {
      "cell_type": "code",
      "source": [
        "num=int(input(\"Enter the Number\"))\n",
        "for n in range(1,11):\n",
        "  print(num*n)"
      ],
      "metadata": {
        "colab": {
          "base_uri": "https://localhost:8080/"
        },
        "id": "4slM--2CIOXO",
        "outputId": "c6abe10e-802a-49fd-dd8d-824c02862140"
      },
      "execution_count": null,
      "outputs": [
        {
          "output_type": "stream",
          "name": "stdout",
          "text": [
            "Enter the Number5\n",
            "5\n",
            "10\n",
            "15\n",
            "20\n",
            "25\n",
            "30\n",
            "35\n",
            "40\n",
            "45\n",
            "50\n"
          ]
        }
      ]
    },
    {
      "cell_type": "code",
      "source": [],
      "metadata": {
        "id": "o6QJig3PImEV"
      },
      "execution_count": null,
      "outputs": []
    }
  ]
}