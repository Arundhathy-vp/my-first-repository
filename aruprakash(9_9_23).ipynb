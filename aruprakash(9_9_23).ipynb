{
  "nbformat": 4,
  "nbformat_minor": 0,
  "metadata": {
    "colab": {
      "provenance": []
    },
    "kernelspec": {
      "name": "python3",
      "display_name": "Python 3"
    },
    "language_info": {
      "name": "python"
    }
  },
  "cells": [
    {
      "cell_type": "markdown",
      "source": [
        "ASSIGNMENT 1 ( 09/09/2023)"
      ],
      "metadata": {
        "id": "0ZkjthbNM_mM"
      }
    },
    {
      "cell_type": "code",
      "execution_count": null,
      "metadata": {
        "colab": {
          "base_uri": "https://localhost:8080/"
        },
        "id": "A9GKXvG5MvII",
        "outputId": "8c401f35-1181-43d0-83c6-dc7c3432f0c8"
      },
      "outputs": [
        {
          "output_type": "stream",
          "name": "stdout",
          "text": [
            "Enter first number:2\n",
            "Enter second number:3\n",
            "5\n"
          ]
        }
      ],
      "source": [
        "# input function\n",
        "a= input('Enter first number:')\n",
        "b=input(\"Enter second number:\")\n",
        "s=int(a)+int(b)\n",
        "print(s)"
      ]
    },
    {
      "cell_type": "code",
      "source": [
        "# input function\n",
        "a= input('Enter first number:')\n",
        "b=input(\"Enter second number:\")\n",
        "s=int(a)*int(b)\n",
        "print(s)"
      ],
      "metadata": {
        "colab": {
          "base_uri": "https://localhost:8080/"
        },
        "id": "uCEwGZF4NQ1Z",
        "outputId": "b07c7f5d-6136-403d-ca21-e59cca3f8750"
      },
      "execution_count": null,
      "outputs": [
        {
          "output_type": "stream",
          "name": "stdout",
          "text": [
            "Enter first number:2\n",
            "Enter second number:3\n",
            "6\n"
          ]
        }
      ]
    },
    {
      "cell_type": "code",
      "source": [
        "\n",
        "#input function\n",
        "a= input('Enter first number:')\n",
        "b=input(\"Enter second number:\")\n",
        "q=int(a)/int(b)\n",
        "r=int(a)%int(b)\n",
        "print(q,r)"
      ],
      "metadata": {
        "colab": {
          "base_uri": "https://localhost:8080/"
        },
        "id": "GyOdTXmyNbXW",
        "outputId": "1efc8750-d1f7-4ec8-f05b-80c2ce2dc850"
      },
      "execution_count": null,
      "outputs": [
        {
          "output_type": "stream",
          "name": "stdout",
          "text": [
            "Enter first number:15\n",
            "Enter second number:3\n",
            "5.0 0\n"
          ]
        }
      ]
    },
    {
      "cell_type": "code",
      "source": [
        "#input function\n",
        "a=input('Enter a string :')\n",
        "b=len(a)\n",
        "print(b)"
      ],
      "metadata": {
        "colab": {
          "base_uri": "https://localhost:8080/"
        },
        "id": "UZMGZQ1dNlAQ",
        "outputId": "009c6641-a013-44ef-c006-402b4149098b"
      },
      "execution_count": null,
      "outputs": [
        {
          "output_type": "stream",
          "name": "stdout",
          "text": [
            "Enter a string :Helooo\n",
            "6\n"
          ]
        }
      ]
    },
    {
      "cell_type": "code",
      "source": [
        "a=input(\"Enter the string:-\")\n",
        "count=a.count('e')\n",
        "print(count)"
      ],
      "metadata": {
        "colab": {
          "base_uri": "https://localhost:8080/"
        },
        "id": "0m0QW-WSJ4sT",
        "outputId": "bd999901-d9e6-40a7-b728-766ef9f75e60"
      },
      "execution_count": null,
      "outputs": [
        {
          "output_type": "stream",
          "name": "stdout",
          "text": [
            "Enter the string:-meaning\n",
            "1\n"
          ]
        }
      ]
    },
    {
      "cell_type": "code",
      "source": [
        "#input function\n",
        "a=input('Enter a string :')\n",
        "b=a.upper()\n",
        "print(b)"
      ],
      "metadata": {
        "colab": {
          "base_uri": "https://localhost:8080/"
        },
        "id": "CXFdVrHZN8DS",
        "outputId": "0b598f22-5125-4a9e-9acc-9a8b09a9479a"
      },
      "execution_count": null,
      "outputs": [
        {
          "output_type": "stream",
          "name": "stdout",
          "text": [
            "Enter a string :data science\n",
            "DATA SCIENCE\n"
          ]
        }
      ]
    },
    {
      "cell_type": "code",
      "source": [
        "#input function\n",
        "a=input('Enter a string :')\n",
        "b=a.lower()\n",
        "print(b)"
      ],
      "metadata": {
        "colab": {
          "base_uri": "https://localhost:8080/"
        },
        "id": "sLlkd482OFCN",
        "outputId": "7db89d79-42cd-42a7-8b31-83e8de13d828"
      },
      "execution_count": null,
      "outputs": [
        {
          "output_type": "stream",
          "name": "stdout",
          "text": [
            "Enter a string :WORLD\n",
            "world\n"
          ]
        }
      ]
    },
    {
      "cell_type": "code",
      "source": [],
      "metadata": {
        "id": "AwClJWegOQQQ"
      },
      "execution_count": null,
      "outputs": []
    }
  ]
}